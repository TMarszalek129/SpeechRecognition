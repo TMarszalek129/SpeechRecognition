{
 "cells": [
  {
   "cell_type": "markdown",
   "id": "64445676",
   "metadata": {},
   "source": [
    "Required libraries:"
   ]
  },
  {
   "cell_type": "code",
   "execution_count": 47,
   "id": "1b3b84de",
   "metadata": {},
   "outputs": [],
   "source": [
    "import os\n",
    "import librosa\n",
    "import IPython.display as ipd\n",
    "import matplotlib.pyplot as plt\n",
    "import numpy as np\n",
    "import sounddevice as sd\n",
    "import soundfile as sf\n",
    "import warnings\n",
    "import random\n",
    "from scipy.io import wavfile\n",
    "from sklearn.preprocessing import LabelEncoder\n",
    "from sklearn.model_selection import train_test_split\n",
    "from keras.utils import to_categorical\n",
    "from keras.layers import Dense, Dropout, Flatten, Conv1D, Input, MaxPooling1D\n",
    "from keras.models import Model\n",
    "from keras.models import load_model\n",
    "from keras.callbacks import EarlyStopping, ModelCheckpoint\n",
    "from keras import backend as K\n",
    "\n",
    "warnings.filterwarnings(\"ignore\")"
   ]
  },
  {
   "cell_type": "markdown",
   "id": "94b1455b",
   "metadata": {},
   "source": [
    "Data preprocessing:\n",
    "\n",
    "Data from: https://www.kaggle.com/c/tensorflow-speech-recognition-challenge"
   ]
  },
  {
   "cell_type": "code",
   "execution_count": 48,
   "id": "1d97b305",
   "metadata": {},
   "outputs": [
    {
     "name": "stdout",
     "output_type": "stream",
     "text": [
      "['bed', 'bird', 'cat', 'dog', 'down', 'eight', 'five', 'four', 'go', 'happy', 'house', 'left', 'marvin', 'nine', 'no', 'off', 'on', 'one', 'right', 'seven', 'sheila', 'six', 'stop', 'three', 'tree', 'two', 'up', 'wow', 'yes', 'zero']\n"
     ]
    }
   ],
   "source": [
    "train_dataset = './input/'\n",
    "labels = os.listdir(train_dataset)\n",
    "for label in labels:\n",
    "    if not os.path.isdir(train_dataset + '/' + label):\n",
    "        labels.remove(label)\n",
    "labels.remove('_background_noise_')\n",
    "\n",
    "print(labels)\n"
   ]
  },
  {
   "cell_type": "code",
   "execution_count": 49,
   "id": "7ce0092d",
   "metadata": {},
   "outputs": [
    {
     "name": "stdout",
     "output_type": "stream",
     "text": [
      "Preprocessing bed...\n",
      "Preprocessing bird...\n",
      "Preprocessing cat...\n",
      "Preprocessing dog...\n",
      "Preprocessing down...\n",
      "Preprocessing eight...\n",
      "Preprocessing five...\n",
      "Preprocessing four...\n",
      "Preprocessing go...\n",
      "Preprocessing happy...\n",
      "Preprocessing house...\n",
      "Preprocessing left...\n",
      "Preprocessing marvin...\n",
      "Preprocessing nine...\n",
      "Preprocessing no...\n",
      "Preprocessing off...\n",
      "Preprocessing on...\n",
      "Preprocessing one...\n",
      "Preprocessing right...\n",
      "Preprocessing seven...\n",
      "Preprocessing sheila...\n",
      "Preprocessing six...\n",
      "Preprocessing stop...\n",
      "Preprocessing three...\n",
      "Preprocessing tree...\n",
      "Preprocessing two...\n",
      "Preprocessing up...\n",
      "Preprocessing wow...\n",
      "Preprocessing yes...\n",
      "Preprocessing zero...\n"
     ]
    }
   ],
   "source": [
    "all_waves = []\n",
    "all_labels = []\n",
    "for label in labels:\n",
    "    print(\"Preprocessing {}...\".format(label))\n",
    "    waves = [f for f in os.listdir(train_dataset + '/'+ label) if f.endswith('.wav')]\n",
    "    for wav in waves:\n",
    "        samples, sample_rate = librosa.load(train_dataset + '/' + label + '/' + wav, sr = 16000)\n",
    "        samples = librosa.resample(np.asarray(samples,dtype=np.float32), orig_sr=sample_rate, target_sr=8000)\n",
    "        if(len(samples)== 8000) : \n",
    "            all_waves.append(samples)\n",
    "            all_labels.append(label)"
   ]
  },
  {
   "cell_type": "code",
   "execution_count": 50,
   "id": "4d2a53d1",
   "metadata": {},
   "outputs": [],
   "source": [
    "le = LabelEncoder()\n",
    "y = le.fit_transform(all_labels)\n",
    "classes = le.classes_"
   ]
  },
  {
   "cell_type": "code",
   "execution_count": 51,
   "id": "e40ee386",
   "metadata": {},
   "outputs": [],
   "source": [
    "y = to_categorical(y, num_classes=len(labels))"
   ]
  },
  {
   "cell_type": "code",
   "execution_count": 52,
   "id": "08c05c7a",
   "metadata": {},
   "outputs": [],
   "source": [
    "X = np.array(all_waves).reshape(-1, 8000, 1)"
   ]
  },
  {
   "cell_type": "code",
   "execution_count": 53,
   "id": "7ef1db30",
   "metadata": {},
   "outputs": [
    {
     "name": "stdout",
     "output_type": "stream",
     "text": [
      "(58252, 8000, 1)\n",
      "(58252, 30)\n"
     ]
    }
   ],
   "source": [
    "print(X.shape)\n",
    "print(y.shape)"
   ]
  },
  {
   "cell_type": "code",
   "execution_count": 54,
   "id": "52225cb4",
   "metadata": {},
   "outputs": [],
   "source": [
    "X_train, X_val, y_train, y_val = train_test_split(X, y, test_size=0.2, random_state=777, shuffle=True)"
   ]
  },
  {
   "cell_type": "markdown",
   "id": "1f82388b",
   "metadata": {},
   "source": [
    "Model"
   ]
  },
  {
   "cell_type": "code",
   "execution_count": 55,
   "id": "151a548d",
   "metadata": {},
   "outputs": [
    {
     "data": {
      "text/html": [
       "<pre style=\"white-space:pre;overflow-x:auto;line-height:normal;font-family:Menlo,'DejaVu Sans Mono',consolas,'Courier New',monospace\"><span style=\"font-weight: bold\">Model: \"functional\"</span>\n",
       "</pre>\n"
      ],
      "text/plain": [
       "\u001b[1mModel: \"functional\"\u001b[0m\n"
      ]
     },
     "metadata": {},
     "output_type": "display_data"
    },
    {
     "data": {
      "text/html": [
       "<pre style=\"white-space:pre;overflow-x:auto;line-height:normal;font-family:Menlo,'DejaVu Sans Mono',consolas,'Courier New',monospace\">┏━━━━━━━━━━━━━━━━━━━━━━━━━━━━━━━━━┳━━━━━━━━━━━━━━━━━━━━━━━━┳━━━━━━━━━━━━━━━┓\n",
       "┃<span style=\"font-weight: bold\"> Layer (type)                    </span>┃<span style=\"font-weight: bold\"> Output Shape           </span>┃<span style=\"font-weight: bold\">       Param # </span>┃\n",
       "┡━━━━━━━━━━━━━━━━━━━━━━━━━━━━━━━━━╇━━━━━━━━━━━━━━━━━━━━━━━━╇━━━━━━━━━━━━━━━┩\n",
       "│ input_layer (<span style=\"color: #0087ff; text-decoration-color: #0087ff\">InputLayer</span>)        │ (<span style=\"color: #00d7ff; text-decoration-color: #00d7ff\">None</span>, <span style=\"color: #00af00; text-decoration-color: #00af00\">8000</span>, <span style=\"color: #00af00; text-decoration-color: #00af00\">1</span>)        │             <span style=\"color: #00af00; text-decoration-color: #00af00\">0</span> │\n",
       "├─────────────────────────────────┼────────────────────────┼───────────────┤\n",
       "│ conv1d (<span style=\"color: #0087ff; text-decoration-color: #0087ff\">Conv1D</span>)                 │ (<span style=\"color: #00d7ff; text-decoration-color: #00d7ff\">None</span>, <span style=\"color: #00af00; text-decoration-color: #00af00\">7988</span>, <span style=\"color: #00af00; text-decoration-color: #00af00\">8</span>)        │           <span style=\"color: #00af00; text-decoration-color: #00af00\">112</span> │\n",
       "├─────────────────────────────────┼────────────────────────┼───────────────┤\n",
       "│ max_pooling1d (<span style=\"color: #0087ff; text-decoration-color: #0087ff\">MaxPooling1D</span>)    │ (<span style=\"color: #00d7ff; text-decoration-color: #00d7ff\">None</span>, <span style=\"color: #00af00; text-decoration-color: #00af00\">2662</span>, <span style=\"color: #00af00; text-decoration-color: #00af00\">8</span>)        │             <span style=\"color: #00af00; text-decoration-color: #00af00\">0</span> │\n",
       "├─────────────────────────────────┼────────────────────────┼───────────────┤\n",
       "│ dropout (<span style=\"color: #0087ff; text-decoration-color: #0087ff\">Dropout</span>)               │ (<span style=\"color: #00d7ff; text-decoration-color: #00d7ff\">None</span>, <span style=\"color: #00af00; text-decoration-color: #00af00\">2662</span>, <span style=\"color: #00af00; text-decoration-color: #00af00\">8</span>)        │             <span style=\"color: #00af00; text-decoration-color: #00af00\">0</span> │\n",
       "├─────────────────────────────────┼────────────────────────┼───────────────┤\n",
       "│ conv1d_1 (<span style=\"color: #0087ff; text-decoration-color: #0087ff\">Conv1D</span>)               │ (<span style=\"color: #00d7ff; text-decoration-color: #00d7ff\">None</span>, <span style=\"color: #00af00; text-decoration-color: #00af00\">2652</span>, <span style=\"color: #00af00; text-decoration-color: #00af00\">16</span>)       │         <span style=\"color: #00af00; text-decoration-color: #00af00\">1,424</span> │\n",
       "├─────────────────────────────────┼────────────────────────┼───────────────┤\n",
       "│ max_pooling1d_1 (<span style=\"color: #0087ff; text-decoration-color: #0087ff\">MaxPooling1D</span>)  │ (<span style=\"color: #00d7ff; text-decoration-color: #00d7ff\">None</span>, <span style=\"color: #00af00; text-decoration-color: #00af00\">884</span>, <span style=\"color: #00af00; text-decoration-color: #00af00\">16</span>)        │             <span style=\"color: #00af00; text-decoration-color: #00af00\">0</span> │\n",
       "├─────────────────────────────────┼────────────────────────┼───────────────┤\n",
       "│ dropout_1 (<span style=\"color: #0087ff; text-decoration-color: #0087ff\">Dropout</span>)             │ (<span style=\"color: #00d7ff; text-decoration-color: #00d7ff\">None</span>, <span style=\"color: #00af00; text-decoration-color: #00af00\">884</span>, <span style=\"color: #00af00; text-decoration-color: #00af00\">16</span>)        │             <span style=\"color: #00af00; text-decoration-color: #00af00\">0</span> │\n",
       "├─────────────────────────────────┼────────────────────────┼───────────────┤\n",
       "│ conv1d_2 (<span style=\"color: #0087ff; text-decoration-color: #0087ff\">Conv1D</span>)               │ (<span style=\"color: #00d7ff; text-decoration-color: #00d7ff\">None</span>, <span style=\"color: #00af00; text-decoration-color: #00af00\">876</span>, <span style=\"color: #00af00; text-decoration-color: #00af00\">32</span>)        │         <span style=\"color: #00af00; text-decoration-color: #00af00\">4,640</span> │\n",
       "├─────────────────────────────────┼────────────────────────┼───────────────┤\n",
       "│ max_pooling1d_2 (<span style=\"color: #0087ff; text-decoration-color: #0087ff\">MaxPooling1D</span>)  │ (<span style=\"color: #00d7ff; text-decoration-color: #00d7ff\">None</span>, <span style=\"color: #00af00; text-decoration-color: #00af00\">292</span>, <span style=\"color: #00af00; text-decoration-color: #00af00\">32</span>)        │             <span style=\"color: #00af00; text-decoration-color: #00af00\">0</span> │\n",
       "├─────────────────────────────────┼────────────────────────┼───────────────┤\n",
       "│ dropout_2 (<span style=\"color: #0087ff; text-decoration-color: #0087ff\">Dropout</span>)             │ (<span style=\"color: #00d7ff; text-decoration-color: #00d7ff\">None</span>, <span style=\"color: #00af00; text-decoration-color: #00af00\">292</span>, <span style=\"color: #00af00; text-decoration-color: #00af00\">32</span>)        │             <span style=\"color: #00af00; text-decoration-color: #00af00\">0</span> │\n",
       "├─────────────────────────────────┼────────────────────────┼───────────────┤\n",
       "│ conv1d_3 (<span style=\"color: #0087ff; text-decoration-color: #0087ff\">Conv1D</span>)               │ (<span style=\"color: #00d7ff; text-decoration-color: #00d7ff\">None</span>, <span style=\"color: #00af00; text-decoration-color: #00af00\">286</span>, <span style=\"color: #00af00; text-decoration-color: #00af00\">64</span>)        │        <span style=\"color: #00af00; text-decoration-color: #00af00\">14,400</span> │\n",
       "├─────────────────────────────────┼────────────────────────┼───────────────┤\n",
       "│ max_pooling1d_3 (<span style=\"color: #0087ff; text-decoration-color: #0087ff\">MaxPooling1D</span>)  │ (<span style=\"color: #00d7ff; text-decoration-color: #00d7ff\">None</span>, <span style=\"color: #00af00; text-decoration-color: #00af00\">95</span>, <span style=\"color: #00af00; text-decoration-color: #00af00\">64</span>)         │             <span style=\"color: #00af00; text-decoration-color: #00af00\">0</span> │\n",
       "├─────────────────────────────────┼────────────────────────┼───────────────┤\n",
       "│ dropout_3 (<span style=\"color: #0087ff; text-decoration-color: #0087ff\">Dropout</span>)             │ (<span style=\"color: #00d7ff; text-decoration-color: #00d7ff\">None</span>, <span style=\"color: #00af00; text-decoration-color: #00af00\">95</span>, <span style=\"color: #00af00; text-decoration-color: #00af00\">64</span>)         │             <span style=\"color: #00af00; text-decoration-color: #00af00\">0</span> │\n",
       "├─────────────────────────────────┼────────────────────────┼───────────────┤\n",
       "│ flatten (<span style=\"color: #0087ff; text-decoration-color: #0087ff\">Flatten</span>)               │ (<span style=\"color: #00d7ff; text-decoration-color: #00d7ff\">None</span>, <span style=\"color: #00af00; text-decoration-color: #00af00\">6080</span>)           │             <span style=\"color: #00af00; text-decoration-color: #00af00\">0</span> │\n",
       "├─────────────────────────────────┼────────────────────────┼───────────────┤\n",
       "│ dense (<span style=\"color: #0087ff; text-decoration-color: #0087ff\">Dense</span>)                   │ (<span style=\"color: #00d7ff; text-decoration-color: #00d7ff\">None</span>, <span style=\"color: #00af00; text-decoration-color: #00af00\">256</span>)            │     <span style=\"color: #00af00; text-decoration-color: #00af00\">1,556,736</span> │\n",
       "├─────────────────────────────────┼────────────────────────┼───────────────┤\n",
       "│ dropout_4 (<span style=\"color: #0087ff; text-decoration-color: #0087ff\">Dropout</span>)             │ (<span style=\"color: #00d7ff; text-decoration-color: #00d7ff\">None</span>, <span style=\"color: #00af00; text-decoration-color: #00af00\">256</span>)            │             <span style=\"color: #00af00; text-decoration-color: #00af00\">0</span> │\n",
       "├─────────────────────────────────┼────────────────────────┼───────────────┤\n",
       "│ dense_1 (<span style=\"color: #0087ff; text-decoration-color: #0087ff\">Dense</span>)                 │ (<span style=\"color: #00d7ff; text-decoration-color: #00d7ff\">None</span>, <span style=\"color: #00af00; text-decoration-color: #00af00\">128</span>)            │        <span style=\"color: #00af00; text-decoration-color: #00af00\">32,896</span> │\n",
       "├─────────────────────────────────┼────────────────────────┼───────────────┤\n",
       "│ dropout_5 (<span style=\"color: #0087ff; text-decoration-color: #0087ff\">Dropout</span>)             │ (<span style=\"color: #00d7ff; text-decoration-color: #00d7ff\">None</span>, <span style=\"color: #00af00; text-decoration-color: #00af00\">128</span>)            │             <span style=\"color: #00af00; text-decoration-color: #00af00\">0</span> │\n",
       "├─────────────────────────────────┼────────────────────────┼───────────────┤\n",
       "│ dense_2 (<span style=\"color: #0087ff; text-decoration-color: #0087ff\">Dense</span>)                 │ (<span style=\"color: #00d7ff; text-decoration-color: #00d7ff\">None</span>, <span style=\"color: #00af00; text-decoration-color: #00af00\">30</span>)             │         <span style=\"color: #00af00; text-decoration-color: #00af00\">3,870</span> │\n",
       "└─────────────────────────────────┴────────────────────────┴───────────────┘\n",
       "</pre>\n"
      ],
      "text/plain": [
       "┏━━━━━━━━━━━━━━━━━━━━━━━━━━━━━━━━━┳━━━━━━━━━━━━━━━━━━━━━━━━┳━━━━━━━━━━━━━━━┓\n",
       "┃\u001b[1m \u001b[0m\u001b[1mLayer (type)                   \u001b[0m\u001b[1m \u001b[0m┃\u001b[1m \u001b[0m\u001b[1mOutput Shape          \u001b[0m\u001b[1m \u001b[0m┃\u001b[1m \u001b[0m\u001b[1m      Param #\u001b[0m\u001b[1m \u001b[0m┃\n",
       "┡━━━━━━━━━━━━━━━━━━━━━━━━━━━━━━━━━╇━━━━━━━━━━━━━━━━━━━━━━━━╇━━━━━━━━━━━━━━━┩\n",
       "│ input_layer (\u001b[38;5;33mInputLayer\u001b[0m)        │ (\u001b[38;5;45mNone\u001b[0m, \u001b[38;5;34m8000\u001b[0m, \u001b[38;5;34m1\u001b[0m)        │             \u001b[38;5;34m0\u001b[0m │\n",
       "├─────────────────────────────────┼────────────────────────┼───────────────┤\n",
       "│ conv1d (\u001b[38;5;33mConv1D\u001b[0m)                 │ (\u001b[38;5;45mNone\u001b[0m, \u001b[38;5;34m7988\u001b[0m, \u001b[38;5;34m8\u001b[0m)        │           \u001b[38;5;34m112\u001b[0m │\n",
       "├─────────────────────────────────┼────────────────────────┼───────────────┤\n",
       "│ max_pooling1d (\u001b[38;5;33mMaxPooling1D\u001b[0m)    │ (\u001b[38;5;45mNone\u001b[0m, \u001b[38;5;34m2662\u001b[0m, \u001b[38;5;34m8\u001b[0m)        │             \u001b[38;5;34m0\u001b[0m │\n",
       "├─────────────────────────────────┼────────────────────────┼───────────────┤\n",
       "│ dropout (\u001b[38;5;33mDropout\u001b[0m)               │ (\u001b[38;5;45mNone\u001b[0m, \u001b[38;5;34m2662\u001b[0m, \u001b[38;5;34m8\u001b[0m)        │             \u001b[38;5;34m0\u001b[0m │\n",
       "├─────────────────────────────────┼────────────────────────┼───────────────┤\n",
       "│ conv1d_1 (\u001b[38;5;33mConv1D\u001b[0m)               │ (\u001b[38;5;45mNone\u001b[0m, \u001b[38;5;34m2652\u001b[0m, \u001b[38;5;34m16\u001b[0m)       │         \u001b[38;5;34m1,424\u001b[0m │\n",
       "├─────────────────────────────────┼────────────────────────┼───────────────┤\n",
       "│ max_pooling1d_1 (\u001b[38;5;33mMaxPooling1D\u001b[0m)  │ (\u001b[38;5;45mNone\u001b[0m, \u001b[38;5;34m884\u001b[0m, \u001b[38;5;34m16\u001b[0m)        │             \u001b[38;5;34m0\u001b[0m │\n",
       "├─────────────────────────────────┼────────────────────────┼───────────────┤\n",
       "│ dropout_1 (\u001b[38;5;33mDropout\u001b[0m)             │ (\u001b[38;5;45mNone\u001b[0m, \u001b[38;5;34m884\u001b[0m, \u001b[38;5;34m16\u001b[0m)        │             \u001b[38;5;34m0\u001b[0m │\n",
       "├─────────────────────────────────┼────────────────────────┼───────────────┤\n",
       "│ conv1d_2 (\u001b[38;5;33mConv1D\u001b[0m)               │ (\u001b[38;5;45mNone\u001b[0m, \u001b[38;5;34m876\u001b[0m, \u001b[38;5;34m32\u001b[0m)        │         \u001b[38;5;34m4,640\u001b[0m │\n",
       "├─────────────────────────────────┼────────────────────────┼───────────────┤\n",
       "│ max_pooling1d_2 (\u001b[38;5;33mMaxPooling1D\u001b[0m)  │ (\u001b[38;5;45mNone\u001b[0m, \u001b[38;5;34m292\u001b[0m, \u001b[38;5;34m32\u001b[0m)        │             \u001b[38;5;34m0\u001b[0m │\n",
       "├─────────────────────────────────┼────────────────────────┼───────────────┤\n",
       "│ dropout_2 (\u001b[38;5;33mDropout\u001b[0m)             │ (\u001b[38;5;45mNone\u001b[0m, \u001b[38;5;34m292\u001b[0m, \u001b[38;5;34m32\u001b[0m)        │             \u001b[38;5;34m0\u001b[0m │\n",
       "├─────────────────────────────────┼────────────────────────┼───────────────┤\n",
       "│ conv1d_3 (\u001b[38;5;33mConv1D\u001b[0m)               │ (\u001b[38;5;45mNone\u001b[0m, \u001b[38;5;34m286\u001b[0m, \u001b[38;5;34m64\u001b[0m)        │        \u001b[38;5;34m14,400\u001b[0m │\n",
       "├─────────────────────────────────┼────────────────────────┼───────────────┤\n",
       "│ max_pooling1d_3 (\u001b[38;5;33mMaxPooling1D\u001b[0m)  │ (\u001b[38;5;45mNone\u001b[0m, \u001b[38;5;34m95\u001b[0m, \u001b[38;5;34m64\u001b[0m)         │             \u001b[38;5;34m0\u001b[0m │\n",
       "├─────────────────────────────────┼────────────────────────┼───────────────┤\n",
       "│ dropout_3 (\u001b[38;5;33mDropout\u001b[0m)             │ (\u001b[38;5;45mNone\u001b[0m, \u001b[38;5;34m95\u001b[0m, \u001b[38;5;34m64\u001b[0m)         │             \u001b[38;5;34m0\u001b[0m │\n",
       "├─────────────────────────────────┼────────────────────────┼───────────────┤\n",
       "│ flatten (\u001b[38;5;33mFlatten\u001b[0m)               │ (\u001b[38;5;45mNone\u001b[0m, \u001b[38;5;34m6080\u001b[0m)           │             \u001b[38;5;34m0\u001b[0m │\n",
       "├─────────────────────────────────┼────────────────────────┼───────────────┤\n",
       "│ dense (\u001b[38;5;33mDense\u001b[0m)                   │ (\u001b[38;5;45mNone\u001b[0m, \u001b[38;5;34m256\u001b[0m)            │     \u001b[38;5;34m1,556,736\u001b[0m │\n",
       "├─────────────────────────────────┼────────────────────────┼───────────────┤\n",
       "│ dropout_4 (\u001b[38;5;33mDropout\u001b[0m)             │ (\u001b[38;5;45mNone\u001b[0m, \u001b[38;5;34m256\u001b[0m)            │             \u001b[38;5;34m0\u001b[0m │\n",
       "├─────────────────────────────────┼────────────────────────┼───────────────┤\n",
       "│ dense_1 (\u001b[38;5;33mDense\u001b[0m)                 │ (\u001b[38;5;45mNone\u001b[0m, \u001b[38;5;34m128\u001b[0m)            │        \u001b[38;5;34m32,896\u001b[0m │\n",
       "├─────────────────────────────────┼────────────────────────┼───────────────┤\n",
       "│ dropout_5 (\u001b[38;5;33mDropout\u001b[0m)             │ (\u001b[38;5;45mNone\u001b[0m, \u001b[38;5;34m128\u001b[0m)            │             \u001b[38;5;34m0\u001b[0m │\n",
       "├─────────────────────────────────┼────────────────────────┼───────────────┤\n",
       "│ dense_2 (\u001b[38;5;33mDense\u001b[0m)                 │ (\u001b[38;5;45mNone\u001b[0m, \u001b[38;5;34m30\u001b[0m)             │         \u001b[38;5;34m3,870\u001b[0m │\n",
       "└─────────────────────────────────┴────────────────────────┴───────────────┘\n"
      ]
     },
     "metadata": {},
     "output_type": "display_data"
    },
    {
     "data": {
      "text/html": [
       "<pre style=\"white-space:pre;overflow-x:auto;line-height:normal;font-family:Menlo,'DejaVu Sans Mono',consolas,'Courier New',monospace\"><span style=\"font-weight: bold\"> Total params: </span><span style=\"color: #00af00; text-decoration-color: #00af00\">1,614,078</span> (6.16 MB)\n",
       "</pre>\n"
      ],
      "text/plain": [
       "\u001b[1m Total params: \u001b[0m\u001b[38;5;34m1,614,078\u001b[0m (6.16 MB)\n"
      ]
     },
     "metadata": {},
     "output_type": "display_data"
    },
    {
     "data": {
      "text/html": [
       "<pre style=\"white-space:pre;overflow-x:auto;line-height:normal;font-family:Menlo,'DejaVu Sans Mono',consolas,'Courier New',monospace\"><span style=\"font-weight: bold\"> Trainable params: </span><span style=\"color: #00af00; text-decoration-color: #00af00\">1,614,078</span> (6.16 MB)\n",
       "</pre>\n"
      ],
      "text/plain": [
       "\u001b[1m Trainable params: \u001b[0m\u001b[38;5;34m1,614,078\u001b[0m (6.16 MB)\n"
      ]
     },
     "metadata": {},
     "output_type": "display_data"
    },
    {
     "data": {
      "text/html": [
       "<pre style=\"white-space:pre;overflow-x:auto;line-height:normal;font-family:Menlo,'DejaVu Sans Mono',consolas,'Courier New',monospace\"><span style=\"font-weight: bold\"> Non-trainable params: </span><span style=\"color: #00af00; text-decoration-color: #00af00\">0</span> (0.00 B)\n",
       "</pre>\n"
      ],
      "text/plain": [
       "\u001b[1m Non-trainable params: \u001b[0m\u001b[38;5;34m0\u001b[0m (0.00 B)\n"
      ]
     },
     "metadata": {},
     "output_type": "display_data"
    }
   ],
   "source": [
    "K.clear_session()\n",
    "\n",
    "inputs = Input(shape=(8000, 1))\n",
    "\n",
    "#First Conv1D layer\n",
    "conv = Conv1D(8,13, padding='valid', activation='relu', strides=1)(inputs)\n",
    "conv = MaxPooling1D(3)(conv)\n",
    "conv = Dropout(0.3)(conv)\n",
    "\n",
    "#Second Conv1D layer\n",
    "conv = Conv1D(16, 11, padding='valid', activation='relu', strides=1)(conv)\n",
    "conv = MaxPooling1D(3)(conv)\n",
    "conv = Dropout(0.3)(conv)\n",
    "\n",
    "#Third Conv1D layer\n",
    "conv = Conv1D(32, 9, padding='valid', activation='relu', strides=1)(conv)\n",
    "conv = MaxPooling1D(3)(conv)\n",
    "conv = Dropout(0.3)(conv)\n",
    "\n",
    "#Fourth Conv1D layer\n",
    "conv = Conv1D(64, 7, padding='valid', activation='relu', strides=1)(conv)\n",
    "conv = MaxPooling1D(3)(conv)\n",
    "conv = Dropout(0.3)(conv)\n",
    "\n",
    "#Flatten layer\n",
    "conv = Flatten()(conv)\n",
    "\n",
    "#Dense Layer 1\n",
    "conv = Dense(256, activation='relu')(conv)\n",
    "conv = Dropout(0.3)(conv)\n",
    "\n",
    "#Dense Layer 2\n",
    "conv = Dense(128, activation='relu')(conv)\n",
    "conv = Dropout(0.3)(conv)\n",
    "\n",
    "outputs = Dense(len(labels), activation='softmax')(conv)\n",
    "\n",
    "model = Model(inputs, outputs)\n",
    "model.summary()"
   ]
  },
  {
   "cell_type": "code",
   "execution_count": 56,
   "id": "122513aa",
   "metadata": {},
   "outputs": [],
   "source": [
    "model.compile(optimizer='adam', loss='categorical_crossentropy', metrics=['accuracy'])\n",
    "es = EarlyStopping(monitor='val_loss', mode='min', verbose=1, patience=10, min_delta=0.0001) \n",
    "mc = ModelCheckpoint('best_model.hdf5.keras', monitor='val_accuracy', verbose=1, save_best_only=True, mode='max')\n",
    "num_epoch = 30"
   ]
  },
  {
   "cell_type": "code",
   "execution_count": 57,
   "id": "de4104ad",
   "metadata": {},
   "outputs": [
    {
     "name": "stdout",
     "output_type": "stream",
     "text": [
      "Epoch 1/30\n",
      "\u001b[1m1457/1457\u001b[0m \u001b[32m━━━━━━━━━━━━━━━━━━━━\u001b[0m\u001b[37m\u001b[0m \u001b[1m0s\u001b[0m 53ms/step - accuracy: 0.0951 - loss: 3.1074\n",
      "Epoch 1: val_accuracy improved from -inf to 0.30530, saving model to best_model.hdf5.keras\n",
      "\u001b[1m1457/1457\u001b[0m \u001b[32m━━━━━━━━━━━━━━━━━━━━\u001b[0m\u001b[37m\u001b[0m \u001b[1m87s\u001b[0m 57ms/step - accuracy: 0.0951 - loss: 3.1072 - val_accuracy: 0.3053 - val_loss: 2.2399\n",
      "Epoch 2/30\n",
      "\u001b[1m1456/1457\u001b[0m \u001b[32m━━━━━━━━━━━━━━━━━━━\u001b[0m\u001b[37m━\u001b[0m \u001b[1m0s\u001b[0m 59ms/step - accuracy: 0.3399 - loss: 2.0991\n",
      "Epoch 2: val_accuracy improved from 0.30530 to 0.51412, saving model to best_model.hdf5.keras\n",
      "\u001b[1m1457/1457\u001b[0m \u001b[32m━━━━━━━━━━━━━━━━━━━━\u001b[0m\u001b[37m\u001b[0m \u001b[1m90s\u001b[0m 62ms/step - accuracy: 0.3400 - loss: 2.0989 - val_accuracy: 0.5141 - val_loss: 1.6458\n",
      "Epoch 3/30\n",
      "\u001b[1m1457/1457\u001b[0m \u001b[32m━━━━━━━━━━━━━━━━━━━━\u001b[0m\u001b[37m\u001b[0m \u001b[1m0s\u001b[0m 51ms/step - accuracy: 0.4884 - loss: 1.6256\n",
      "Epoch 3: val_accuracy improved from 0.51412 to 0.64406, saving model to best_model.hdf5.keras\n",
      "\u001b[1m1457/1457\u001b[0m \u001b[32m━━━━━━━━━━━━━━━━━━━━\u001b[0m\u001b[37m\u001b[0m \u001b[1m79s\u001b[0m 54ms/step - accuracy: 0.4884 - loss: 1.6255 - val_accuracy: 0.6441 - val_loss: 1.2578\n",
      "Epoch 4/30\n",
      "\u001b[1m1456/1457\u001b[0m \u001b[32m━━━━━━━━━━━━━━━━━━━\u001b[0m\u001b[37m━\u001b[0m \u001b[1m0s\u001b[0m 50ms/step - accuracy: 0.5670 - loss: 1.3935\n",
      "Epoch 4: val_accuracy improved from 0.64406 to 0.64587, saving model to best_model.hdf5.keras\n",
      "\u001b[1m1457/1457\u001b[0m \u001b[32m━━━━━━━━━━━━━━━━━━━━\u001b[0m\u001b[37m\u001b[0m \u001b[1m76s\u001b[0m 52ms/step - accuracy: 0.5670 - loss: 1.3935 - val_accuracy: 0.6459 - val_loss: 1.2088\n",
      "Epoch 5/30\n",
      "\u001b[1m1456/1457\u001b[0m \u001b[32m━━━━━━━━━━━━━━━━━━━\u001b[0m\u001b[37m━\u001b[0m \u001b[1m0s\u001b[0m 52ms/step - accuracy: 0.6121 - loss: 1.2647\n",
      "Epoch 5: val_accuracy improved from 0.64587 to 0.70784, saving model to best_model.hdf5.keras\n",
      "\u001b[1m1457/1457\u001b[0m \u001b[32m━━━━━━━━━━━━━━━━━━━━\u001b[0m\u001b[37m\u001b[0m \u001b[1m86s\u001b[0m 55ms/step - accuracy: 0.6121 - loss: 1.2647 - val_accuracy: 0.7078 - val_loss: 1.0273\n",
      "Epoch 6/30\n",
      "\u001b[1m1456/1457\u001b[0m \u001b[32m━━━━━━━━━━━━━━━━━━━\u001b[0m\u001b[37m━\u001b[0m \u001b[1m0s\u001b[0m 50ms/step - accuracy: 0.6462 - loss: 1.1593\n",
      "Epoch 6: val_accuracy improved from 0.70784 to 0.73092, saving model to best_model.hdf5.keras\n",
      "\u001b[1m1457/1457\u001b[0m \u001b[32m━━━━━━━━━━━━━━━━━━━━\u001b[0m\u001b[37m\u001b[0m \u001b[1m77s\u001b[0m 53ms/step - accuracy: 0.6462 - loss: 1.1593 - val_accuracy: 0.7309 - val_loss: 0.9232\n",
      "Epoch 7/30\n",
      "\u001b[1m1457/1457\u001b[0m \u001b[32m━━━━━━━━━━━━━━━━━━━━\u001b[0m\u001b[37m\u001b[0m \u001b[1m0s\u001b[0m 50ms/step - accuracy: 0.6679 - loss: 1.0837\n",
      "Epoch 7: val_accuracy improved from 0.73092 to 0.73642, saving model to best_model.hdf5.keras\n",
      "\u001b[1m1457/1457\u001b[0m \u001b[32m━━━━━━━━━━━━━━━━━━━━\u001b[0m\u001b[37m\u001b[0m \u001b[1m77s\u001b[0m 53ms/step - accuracy: 0.6679 - loss: 1.0837 - val_accuracy: 0.7364 - val_loss: 0.9076\n",
      "Epoch 8/30\n",
      "\u001b[1m1457/1457\u001b[0m \u001b[32m━━━━━━━━━━━━━━━━━━━━\u001b[0m\u001b[37m\u001b[0m \u001b[1m0s\u001b[0m 50ms/step - accuracy: 0.6841 - loss: 1.0291\n",
      "Epoch 8: val_accuracy improved from 0.73642 to 0.75444, saving model to best_model.hdf5.keras\n",
      "\u001b[1m1457/1457\u001b[0m \u001b[32m━━━━━━━━━━━━━━━━━━━━\u001b[0m\u001b[37m\u001b[0m \u001b[1m77s\u001b[0m 53ms/step - accuracy: 0.6841 - loss: 1.0291 - val_accuracy: 0.7544 - val_loss: 0.8626\n",
      "Epoch 9/30\n",
      "\u001b[1m1457/1457\u001b[0m \u001b[32m━━━━━━━━━━━━━━━━━━━━\u001b[0m\u001b[37m\u001b[0m \u001b[1m0s\u001b[0m 51ms/step - accuracy: 0.7043 - loss: 0.9688\n",
      "Epoch 9: val_accuracy did not improve from 0.75444\n",
      "\u001b[1m1457/1457\u001b[0m \u001b[32m━━━━━━━━━━━━━━━━━━━━\u001b[0m\u001b[37m\u001b[0m \u001b[1m78s\u001b[0m 54ms/step - accuracy: 0.7043 - loss: 0.9688 - val_accuracy: 0.7538 - val_loss: 0.8517\n",
      "Epoch 10/30\n",
      "\u001b[1m1456/1457\u001b[0m \u001b[32m━━━━━━━━━━━━━━━━━━━\u001b[0m\u001b[37m━\u001b[0m \u001b[1m0s\u001b[0m 50ms/step - accuracy: 0.7187 - loss: 0.9201\n",
      "Epoch 10: val_accuracy improved from 0.75444 to 0.76174, saving model to best_model.hdf5.keras\n",
      "\u001b[1m1457/1457\u001b[0m \u001b[32m━━━━━━━━━━━━━━━━━━━━\u001b[0m\u001b[37m\u001b[0m \u001b[1m77s\u001b[0m 53ms/step - accuracy: 0.7187 - loss: 0.9201 - val_accuracy: 0.7617 - val_loss: 0.8148\n",
      "Epoch 11/30\n",
      "\u001b[1m1456/1457\u001b[0m \u001b[32m━━━━━━━━━━━━━━━━━━━\u001b[0m\u001b[37m━\u001b[0m \u001b[1m0s\u001b[0m 51ms/step - accuracy: 0.7286 - loss: 0.8886\n",
      "Epoch 11: val_accuracy improved from 0.76174 to 0.78671, saving model to best_model.hdf5.keras\n",
      "\u001b[1m1457/1457\u001b[0m \u001b[32m━━━━━━━━━━━━━━━━━━━━\u001b[0m\u001b[37m\u001b[0m \u001b[1m79s\u001b[0m 54ms/step - accuracy: 0.7286 - loss: 0.8886 - val_accuracy: 0.7867 - val_loss: 0.7384\n",
      "Epoch 12/30\n",
      "\u001b[1m1457/1457\u001b[0m \u001b[32m━━━━━━━━━━━━━━━━━━━━\u001b[0m\u001b[37m\u001b[0m \u001b[1m0s\u001b[0m 50ms/step - accuracy: 0.7406 - loss: 0.8529\n",
      "Epoch 12: val_accuracy improved from 0.78671 to 0.80019, saving model to best_model.hdf5.keras\n",
      "\u001b[1m1457/1457\u001b[0m \u001b[32m━━━━━━━━━━━━━━━━━━━━\u001b[0m\u001b[37m\u001b[0m \u001b[1m77s\u001b[0m 53ms/step - accuracy: 0.7406 - loss: 0.8529 - val_accuracy: 0.8002 - val_loss: 0.7056\n",
      "Epoch 13/30\n",
      "\u001b[1m1457/1457\u001b[0m \u001b[32m━━━━━━━━━━━━━━━━━━━━\u001b[0m\u001b[37m\u001b[0m \u001b[1m0s\u001b[0m 51ms/step - accuracy: 0.7488 - loss: 0.8261\n",
      "Epoch 13: val_accuracy did not improve from 0.80019\n",
      "\u001b[1m1457/1457\u001b[0m \u001b[32m━━━━━━━━━━━━━━━━━━━━\u001b[0m\u001b[37m\u001b[0m \u001b[1m78s\u001b[0m 53ms/step - accuracy: 0.7488 - loss: 0.8261 - val_accuracy: 0.7941 - val_loss: 0.7059\n",
      "Epoch 14/30\n",
      "\u001b[1m1457/1457\u001b[0m \u001b[32m━━━━━━━━━━━━━━━━━━━━\u001b[0m\u001b[37m\u001b[0m \u001b[1m0s\u001b[0m 50ms/step - accuracy: 0.7525 - loss: 0.8108\n",
      "Epoch 14: val_accuracy improved from 0.80019 to 0.80173, saving model to best_model.hdf5.keras\n",
      "\u001b[1m1457/1457\u001b[0m \u001b[32m━━━━━━━━━━━━━━━━━━━━\u001b[0m\u001b[37m\u001b[0m \u001b[1m77s\u001b[0m 53ms/step - accuracy: 0.7525 - loss: 0.8108 - val_accuracy: 0.8017 - val_loss: 0.6978\n",
      "Epoch 15/30\n",
      "\u001b[1m1456/1457\u001b[0m \u001b[32m━━━━━━━━━━━━━━━━━━━\u001b[0m\u001b[37m━\u001b[0m \u001b[1m0s\u001b[0m 50ms/step - accuracy: 0.7621 - loss: 0.7821\n",
      "Epoch 15: val_accuracy improved from 0.80173 to 0.80311, saving model to best_model.hdf5.keras\n",
      "\u001b[1m1457/1457\u001b[0m \u001b[32m━━━━━━━━━━━━━━━━━━━━\u001b[0m\u001b[37m\u001b[0m \u001b[1m77s\u001b[0m 53ms/step - accuracy: 0.7621 - loss: 0.7821 - val_accuracy: 0.8031 - val_loss: 0.6948\n",
      "Epoch 16/30\n",
      "\u001b[1m1456/1457\u001b[0m \u001b[32m━━━━━━━━━━━━━━━━━━━\u001b[0m\u001b[37m━\u001b[0m \u001b[1m0s\u001b[0m 50ms/step - accuracy: 0.7650 - loss: 0.7687\n",
      "Epoch 16: val_accuracy improved from 0.80311 to 0.81452, saving model to best_model.hdf5.keras\n",
      "\u001b[1m1457/1457\u001b[0m \u001b[32m━━━━━━━━━━━━━━━━━━━━\u001b[0m\u001b[37m\u001b[0m \u001b[1m77s\u001b[0m 53ms/step - accuracy: 0.7650 - loss: 0.7687 - val_accuracy: 0.8145 - val_loss: 0.6334\n",
      "Epoch 17/30\n",
      "\u001b[1m1457/1457\u001b[0m \u001b[32m━━━━━━━━━━━━━━━━━━━━\u001b[0m\u001b[37m\u001b[0m \u001b[1m0s\u001b[0m 50ms/step - accuracy: 0.7660 - loss: 0.7604\n",
      "Epoch 17: val_accuracy did not improve from 0.81452\n",
      "\u001b[1m1457/1457\u001b[0m \u001b[32m━━━━━━━━━━━━━━━━━━━━\u001b[0m\u001b[37m\u001b[0m \u001b[1m77s\u001b[0m 53ms/step - accuracy: 0.7660 - loss: 0.7604 - val_accuracy: 0.8140 - val_loss: 0.6418\n",
      "Epoch 18/30\n",
      "\u001b[1m1456/1457\u001b[0m \u001b[32m━━━━━━━━━━━━━━━━━━━\u001b[0m\u001b[37m━\u001b[0m \u001b[1m0s\u001b[0m 50ms/step - accuracy: 0.7707 - loss: 0.7448\n",
      "Epoch 18: val_accuracy did not improve from 0.81452\n",
      "\u001b[1m1457/1457\u001b[0m \u001b[32m━━━━━━━━━━━━━━━━━━━━\u001b[0m\u001b[37m\u001b[0m \u001b[1m77s\u001b[0m 52ms/step - accuracy: 0.7707 - loss: 0.7448 - val_accuracy: 0.8090 - val_loss: 0.6550\n",
      "Epoch 19/30\n",
      "\u001b[1m1457/1457\u001b[0m \u001b[32m━━━━━━━━━━━━━━━━━━━━\u001b[0m\u001b[37m\u001b[0m \u001b[1m0s\u001b[0m 50ms/step - accuracy: 0.7790 - loss: 0.7190\n",
      "Epoch 19: val_accuracy did not improve from 0.81452\n",
      "\u001b[1m1457/1457\u001b[0m \u001b[32m━━━━━━━━━━━━━━━━━━━━\u001b[0m\u001b[37m\u001b[0m \u001b[1m76s\u001b[0m 52ms/step - accuracy: 0.7790 - loss: 0.7190 - val_accuracy: 0.8079 - val_loss: 0.6525\n",
      "Epoch 20/30\n",
      "\u001b[1m1457/1457\u001b[0m \u001b[32m━━━━━━━━━━━━━━━━━━━━\u001b[0m\u001b[37m\u001b[0m \u001b[1m0s\u001b[0m 50ms/step - accuracy: 0.7738 - loss: 0.7383\n",
      "Epoch 20: val_accuracy improved from 0.81452 to 0.81950, saving model to best_model.hdf5.keras\n",
      "\u001b[1m1457/1457\u001b[0m \u001b[32m━━━━━━━━━━━━━━━━━━━━\u001b[0m\u001b[37m\u001b[0m \u001b[1m77s\u001b[0m 53ms/step - accuracy: 0.7738 - loss: 0.7383 - val_accuracy: 0.8195 - val_loss: 0.6101\n",
      "Epoch 21/30\n",
      "\u001b[1m1457/1457\u001b[0m \u001b[32m━━━━━━━━━━━━━━━━━━━━\u001b[0m\u001b[37m\u001b[0m \u001b[1m0s\u001b[0m 52ms/step - accuracy: 0.7819 - loss: 0.7144\n",
      "Epoch 21: val_accuracy improved from 0.81950 to 0.83169, saving model to best_model.hdf5.keras\n",
      "\u001b[1m1457/1457\u001b[0m \u001b[32m━━━━━━━━━━━━━━━━━━━━\u001b[0m\u001b[37m\u001b[0m \u001b[1m80s\u001b[0m 55ms/step - accuracy: 0.7819 - loss: 0.7144 - val_accuracy: 0.8317 - val_loss: 0.5849\n",
      "Epoch 22/30\n",
      "\u001b[1m1456/1457\u001b[0m \u001b[32m━━━━━━━━━━━━━━━━━━━\u001b[0m\u001b[37m━\u001b[0m \u001b[1m0s\u001b[0m 54ms/step - accuracy: 0.7855 - loss: 0.6997\n",
      "Epoch 22: val_accuracy did not improve from 0.83169\n",
      "\u001b[1m1457/1457\u001b[0m \u001b[32m━━━━━━━━━━━━━━━━━━━━\u001b[0m\u001b[37m\u001b[0m \u001b[1m82s\u001b[0m 57ms/step - accuracy: 0.7855 - loss: 0.6997 - val_accuracy: 0.8119 - val_loss: 0.6407\n",
      "Epoch 23/30\n",
      "\u001b[1m1456/1457\u001b[0m \u001b[32m━━━━━━━━━━━━━━━━━━━\u001b[0m\u001b[37m━\u001b[0m \u001b[1m0s\u001b[0m 50ms/step - accuracy: 0.7897 - loss: 0.6893\n",
      "Epoch 23: val_accuracy did not improve from 0.83169\n",
      "\u001b[1m1457/1457\u001b[0m \u001b[32m━━━━━━━━━━━━━━━━━━━━\u001b[0m\u001b[37m\u001b[0m \u001b[1m76s\u001b[0m 52ms/step - accuracy: 0.7897 - loss: 0.6893 - val_accuracy: 0.8197 - val_loss: 0.6160\n",
      "Epoch 24/30\n",
      "\u001b[1m1456/1457\u001b[0m \u001b[32m━━━━━━━━━━━━━━━━━━━\u001b[0m\u001b[37m━\u001b[0m \u001b[1m0s\u001b[0m 50ms/step - accuracy: 0.7916 - loss: 0.6799\n",
      "Epoch 24: val_accuracy did not improve from 0.83169\n",
      "\u001b[1m1457/1457\u001b[0m \u001b[32m━━━━━━━━━━━━━━━━━━━━\u001b[0m\u001b[37m\u001b[0m \u001b[1m77s\u001b[0m 53ms/step - accuracy: 0.7916 - loss: 0.6799 - val_accuracy: 0.8180 - val_loss: 0.6271\n",
      "Epoch 25/30\n",
      "\u001b[1m1456/1457\u001b[0m \u001b[32m━━━━━━━━━━━━━━━━━━━\u001b[0m\u001b[37m━\u001b[0m \u001b[1m0s\u001b[0m 51ms/step - accuracy: 0.7925 - loss: 0.6654\n",
      "Epoch 25: val_accuracy did not improve from 0.83169\n",
      "\u001b[1m1457/1457\u001b[0m \u001b[32m━━━━━━━━━━━━━━━━━━━━\u001b[0m\u001b[37m\u001b[0m \u001b[1m80s\u001b[0m 55ms/step - accuracy: 0.7925 - loss: 0.6654 - val_accuracy: 0.8205 - val_loss: 0.6101\n",
      "Epoch 26/30\n",
      "\u001b[1m1457/1457\u001b[0m \u001b[32m━━━━━━━━━━━━━━━━━━━━\u001b[0m\u001b[37m\u001b[0m \u001b[1m0s\u001b[0m 58ms/step - accuracy: 0.7943 - loss: 0.6666\n",
      "Epoch 26: val_accuracy did not improve from 0.83169\n",
      "\u001b[1m1457/1457\u001b[0m \u001b[32m━━━━━━━━━━━━━━━━━━━━\u001b[0m\u001b[37m\u001b[0m \u001b[1m88s\u001b[0m 60ms/step - accuracy: 0.7943 - loss: 0.6666 - val_accuracy: 0.8234 - val_loss: 0.5980\n",
      "Epoch 27/30\n",
      "\u001b[1m1456/1457\u001b[0m \u001b[32m━━━━━━━━━━━━━━━━━━━\u001b[0m\u001b[37m━\u001b[0m \u001b[1m0s\u001b[0m 54ms/step - accuracy: 0.7941 - loss: 0.6714\n",
      "Epoch 27: val_accuracy did not improve from 0.83169\n",
      "\u001b[1m1457/1457\u001b[0m \u001b[32m━━━━━━━━━━━━━━━━━━━━\u001b[0m\u001b[37m\u001b[0m \u001b[1m82s\u001b[0m 56ms/step - accuracy: 0.7941 - loss: 0.6714 - val_accuracy: 0.8115 - val_loss: 0.6359\n",
      "Epoch 28/30\n",
      "\u001b[1m1456/1457\u001b[0m \u001b[32m━━━━━━━━━━━━━━━━━━━\u001b[0m\u001b[37m━\u001b[0m \u001b[1m0s\u001b[0m 52ms/step - accuracy: 0.8013 - loss: 0.6441\n",
      "Epoch 28: val_accuracy did not improve from 0.83169\n",
      "\u001b[1m1457/1457\u001b[0m \u001b[32m━━━━━━━━━━━━━━━━━━━━\u001b[0m\u001b[37m\u001b[0m \u001b[1m79s\u001b[0m 54ms/step - accuracy: 0.8013 - loss: 0.6441 - val_accuracy: 0.8285 - val_loss: 0.5933\n",
      "Epoch 29/30\n",
      "\u001b[1m1457/1457\u001b[0m \u001b[32m━━━━━━━━━━━━━━━━━━━━\u001b[0m\u001b[37m\u001b[0m \u001b[1m0s\u001b[0m 55ms/step - accuracy: 0.8059 - loss: 0.6397\n",
      "Epoch 29: val_accuracy did not improve from 0.83169\n",
      "\u001b[1m1457/1457\u001b[0m \u001b[32m━━━━━━━━━━━━━━━━━━━━\u001b[0m\u001b[37m\u001b[0m \u001b[1m84s\u001b[0m 58ms/step - accuracy: 0.8059 - loss: 0.6398 - val_accuracy: 0.8256 - val_loss: 0.5950\n",
      "Epoch 30/30\n",
      "\u001b[1m1457/1457\u001b[0m \u001b[32m━━━━━━━━━━━━━━━━━━━━\u001b[0m\u001b[37m\u001b[0m \u001b[1m0s\u001b[0m 52ms/step - accuracy: 0.8050 - loss: 0.6346\n",
      "Epoch 30: val_accuracy did not improve from 0.83169\n",
      "\u001b[1m1457/1457\u001b[0m \u001b[32m━━━━━━━━━━━━━━━━━━━━\u001b[0m\u001b[37m\u001b[0m \u001b[1m79s\u001b[0m 54ms/step - accuracy: 0.8050 - loss: 0.6346 - val_accuracy: 0.8315 - val_loss: 0.5726\n"
     ]
    }
   ],
   "source": [
    "history=model.fit(X_train, y_train ,epochs=num_epoch, callbacks=[es,mc], batch_size=32, validation_data=(X_val,y_val))"
   ]
  },
  {
   "cell_type": "markdown",
   "id": "d88419e7",
   "metadata": {},
   "source": [
    "Results"
   ]
  },
  {
   "cell_type": "code",
   "execution_count": 58,
   "id": "579ab806",
   "metadata": {},
   "outputs": [
    {
     "data": {
      "image/png": "[encoded data removed]",
      "text/plain": [
       "<Figure size 640x480 with 1 Axes>"
      ]
     },
     "metadata": {},
     "output_type": "display_data"
    }
   ],
   "source": [
    "plt.figure()\n",
    "plt.plot(range(num_epoch),history.history['loss'], label='train')\n",
    "plt.plot(range(num_epoch),history.history['val_loss'], label='val')\n",
    "plt.legend()\n",
    "plt.grid()\n",
    "plt.show()"
   ]
  },
  {
   "cell_type": "markdown",
   "id": "280891e7",
   "metadata": {},
   "source": [
    "Tests"
   ]
  },
  {
   "cell_type": "code",
   "execution_count": 59,
   "id": "a1e6b47e",
   "metadata": {},
   "outputs": [],
   "source": [
    "model = load_model('best_model.hdf5.keras')"
   ]
  },
  {
   "cell_type": "code",
   "execution_count": 74,
   "id": "fce4703d",
   "metadata": {},
   "outputs": [],
   "source": [
    "def predict(audio):\n",
    "    prob=model.predict(audio.reshape(-1,8000,1))\n",
    "    index=np.argmax(prob[0])\n",
    "    return classes[index]"
   ]
  },
  {
   "cell_type": "code",
   "execution_count": 61,
   "id": "e0729bc0",
   "metadata": {},
   "outputs": [
    {
     "name": "stdout",
     "output_type": "stream",
     "text": [
      "Audio: up\n"
     ]
    },
    {
     "data": {
      "text/html": [
       "\n",
       "                <audio  controls=\"controls\" >\n",
       "                    <source src=\"data:audio/wav;base64,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\" type=\"audio/wav\" />\n",
       "                    Your browser does not support the audio element.\n",
       "                </audio>\n",
       "              "
      ],
      "text/plain": [
       "<IPython.lib.display.Audio object>"
      ]
     },
     "execution_count": 61,
     "metadata": {},
     "output_type": "execute_result"
    }
   ],
   "source": [
    "index=random.randint(0,len(X_val)-1)\n",
    "samples=X_val[index].ravel()\n",
    "print(\"Audio:\",classes[np.argmax(y_val[index])])\n",
    "ipd.Audio(samples, rate=8000)"
   ]
  },
  {
   "cell_type": "code",
   "execution_count": 62,
   "id": "a9a37b7c",
   "metadata": {},
   "outputs": [
    {
     "name": "stdout",
     "output_type": "stream",
     "text": [
      "\u001b[1m1/1\u001b[0m \u001b[32m━━━━━━━━━━━━━━━━━━━━\u001b[0m\u001b[37m\u001b[0m \u001b[1m0s\u001b[0m 166ms/step\n",
      "Text: up\n"
     ]
    }
   ],
   "source": [
    "print(\"Text:\",predict(samples))"
   ]
  },
  {
   "cell_type": "markdown",
   "id": "4d69df6d",
   "metadata": {},
   "source": [
    "Check your voice sample: "
   ]
  },
  {
   "cell_type": "code",
   "execution_count": 85,
   "id": "df2607e7",
   "metadata": {},
   "outputs": [
    {
     "name": "stdout",
     "output_type": "stream",
     "text": [
      "start\n",
      "end\n"
     ]
    }
   ],
   "source": [
    "samplerate = 16000\n",
    "duration = 1\n",
    "filename = 'voice.wav'\n",
    "print(\"start\")\n",
    "mydata = sd.rec(int(samplerate * duration), samplerate=samplerate,\n",
    "    channels=1, blocking=True)\n",
    "print(\"end\")\n",
    "sd.wait()\n",
    "sf.write(filename, mydata, samplerate)\n"
   ]
  },
  {
   "cell_type": "code",
   "execution_count": 86,
   "id": "50aacb03",
   "metadata": {},
   "outputs": [
    {
     "data": {
      "text/html": [
       "\n",
       "                <audio  controls=\"controls\" >\n",
       "                    <source src=\"data:audio/wav;base64,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\" type=\"audio/wav\" />\n",
       "                    Your browser does not support the audio element.\n",
       "                </audio>\n",
       "              "
      ],
      "text/plain": [
       "<IPython.lib.display.Audio object>"
      ]
     },
     "execution_count": 86,
     "metadata": {},
     "output_type": "execute_result"
    }
   ],
   "source": [
    "#reading the voice commands\n",
    "samples, sample_rate = librosa.load('voice.wav', sr = 16000)\n",
    "samples = librosa.resample(samples, orig_sr=sample_rate, target_sr=8000)\n",
    "ipd.Audio(samples,rate=8000) "
   ]
  },
  {
   "cell_type": "code",
   "execution_count": 87,
   "id": "80ae273b",
   "metadata": {},
   "outputs": [
    {
     "name": "stdout",
     "output_type": "stream",
     "text": [
      "\u001b[1m1/1\u001b[0m \u001b[32m━━━━━━━━━━━━━━━━━━━━\u001b[0m\u001b[37m\u001b[0m \u001b[1m0s\u001b[0m 39ms/step\n",
      "up\n"
     ]
    }
   ],
   "source": [
    "result = predict(samples)\n",
    "print(result)"
   ]
  }
 ],
 "metadata": {
  "kernelspec": {
   "display_name": "VoiceCalculator",
   "language": "python",
   "name": "python3"
  },
  "language_info": {
   "codemirror_mode": {
    "name": "ipython",
    "version": 3
   },
   "file_extension": ".py",
   "mimetype": "text/x-python",
   "name": "python",
   "nbconvert_exporter": "python",
   "pygments_lexer": "ipython3",
   "version": "3.9.16"
  }
 },
 "nbformat": 4,
 "nbformat_minor": 5
}
